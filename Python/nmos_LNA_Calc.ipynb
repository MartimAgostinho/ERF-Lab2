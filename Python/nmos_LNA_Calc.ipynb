{
 "cells": [
  {
   "cell_type": "code",
   "execution_count": 26,
   "id": "db064e50",
   "metadata": {},
   "outputs": [],
   "source": [
    "import numpy as np\n",
    "import matplotlib.pyplot as plt  \n",
    "from sympy import *\n"
   ]
  },
  {
   "cell_type": "markdown",
   "id": "2d76c956",
   "metadata": {},
   "source": [
    "## Symbols and constants "
   ]
  },
  {
   "cell_type": "code",
   "execution_count": 27,
   "id": "7197e2c4",
   "metadata": {},
   "outputs": [],
   "source": [
    "gm1,gds1,gmb1,r1 = symbols('g_{m1} g_{ds1} g_{mb1} r_{1}')\n",
    "gm2,gds2,gmb2,r2,rds2 = symbols('g_{m2} g_{ds2} g_{mb2} r_{2} r_{ds_2}')\n",
    "AvLinGoal = np.power( 10,14/20 )\n",
    "Vtn  = 0.6\n",
    "Kn   = 200e-6\n",
    "Lmin = 350e-9\n",
    "Vdd  = 2.5\n",
    "\n",
    "av1 = (gm1+gmb1+gds1)/(gds1 + 1/(r1))\n"
   ]
  },
  {
   "cell_type": "markdown",
   "id": "5b4e0610",
   "metadata": {},
   "source": [
    "# Common Gate"
   ]
  },
  {
   "cell_type": "markdown",
   "id": "4f7d883f",
   "metadata": {},
   "source": [
    "### Common Gate Gain\n",
    "$$A_v = \\frac{v_o}{v_i}=\\frac{g_m+g_{mb}+g_{ds}}{g_{ds}+1/r_1}$$"
   ]
  },
  {
   "cell_type": "markdown",
   "id": "3e52dce9",
   "metadata": {},
   "source": [
    "### Input Impedance"
   ]
  },
  {
   "cell_type": "code",
   "execution_count": 28,
   "id": "f35dc976",
   "metadata": {},
   "outputs": [
    {
     "name": "stdout",
     "output_type": "stream",
     "text": [
      "\\frac{1}{- \\frac{g_{ds1} \\left(g_{ds1} + \\frac{1}{r_{1}}\\right)}{g_{ds1} + g_{m1} + g_{mb1}} + g_{ds1} + g_{m1} + g_{mb1}}\n"
     ]
    }
   ],
   "source": [
    "zin = 1/(gm1+gds1+gmb1-(gds1/av1))\n",
    "print(latex(zin))\n",
    "\n"
   ]
  },
  {
   "cell_type": "markdown",
   "id": "6eb24365",
   "metadata": {},
   "source": [
    "$$Z_{in}=\\frac{1}{- \\frac{g_{ds1} \\left(g_{ds1} + \\frac{1}{r_{1}}\\right)}{g_{ds1} + g_{m1} + g_{mb1}} + g_{ds1} + g_{m1} + g_{mb1}}\\approx\\frac{1}{g_m+g_{mb}}$$"
   ]
  },
  {
   "cell_type": "markdown",
   "id": "84e2a552",
   "metadata": {},
   "source": [
    "The input impedance should be $Z_{in} = 50 ~ \\Omega$ "
   ]
  },
  {
   "cell_type": "markdown",
   "id": "e8a81c07",
   "metadata": {},
   "source": [
    "\n",
    "With $g_{mb}\\approx 0.2\\cdot g_m$"
   ]
  },
  {
   "cell_type": "code",
   "execution_count": 29,
   "id": "67e5e5fc",
   "metadata": {},
   "outputs": [
    {
     "name": "stdout",
     "output_type": "stream",
     "text": [
      "gm =  0.0166666666666667\n"
     ]
    }
   ],
   "source": [
    "eq_z1 = 1/(gm1*(1.2)) - 50\n",
    "gm1 = solve(eq_z1,[gm1])[0]\n",
    "print(\"gm = \",gm1)"
   ]
  },
  {
   "cell_type": "markdown",
   "id": "74868011",
   "metadata": {},
   "source": [
    "For the bias current \n",
    "$$g_m =\\sqrt{2K_{n,p}\\frac{W}{L}I_D}= \\frac{2I_D}{V_{DSsat}}$$\n",
    "\n",
    "Aiming for $V_{DSsat} = 100 ~\\text{mV}$"
   ]
  },
  {
   "cell_type": "code",
   "execution_count": 30,
   "id": "e3519a5a",
   "metadata": {},
   "outputs": [
    {
     "name": "stdout",
     "output_type": "stream",
     "text": [
      "Id1:  0.833333333333333 mA\n"
     ]
    }
   ],
   "source": [
    "Id1, vdsat1,W1,L1,Vgs1,r1 = symbols('I_{d1} V_{dsat1} W_1 L_1 V_{GS_1} R_1' )\n",
    "\n",
    "eq_id1 = Eq(Id1,(Kn/2)*(W1/L1)*np.power(Vgs1-Vtn,2))\n",
    "\n",
    "vdsat1 = 0.1\n",
    "\n",
    "eq_gm1 = Eq(gm1, 2*Id1/vdsat1)\n",
    "\n",
    "s = solve(eq_gm1,[Id1])\n",
    "Id1 = s[0]\n",
    "print(\"Id1: \",Id1*1e3,\"mA\")\n"
   ]
  },
  {
   "cell_type": "markdown",
   "id": "c5681c6c",
   "metadata": {},
   "source": [
    "Using $L_{min} = 350~\\text{n}$ \n",
    "$$I_D=\\frac{K_n}{2}\\cdot\\frac{W}{L}V_{DSsat}^2$$"
   ]
  },
  {
   "cell_type": "code",
   "execution_count": 31,
   "id": "d603d234",
   "metadata": {},
   "outputs": [
    {
     "name": "stdout",
     "output_type": "stream",
     "text": [
      "W:  349.99999999999994 um\n"
     ]
    }
   ],
   "source": [
    "Id1 = 1e-3\n",
    "wl1 = Id1/( 0.5*Kn*(vdsat1**2) )\n",
    "print(\"W: \",wl1*Lmin*1e6,\"um\")"
   ]
  },
  {
   "cell_type": "code",
   "execution_count": 32,
   "id": "c46d439a",
   "metadata": {},
   "outputs": [
    {
     "name": "stdout",
     "output_type": "stream",
     "text": [
      "R1 Value:  280.136349372232\n"
     ]
    }
   ],
   "source": [
    "gds1 = 3.23e-04\n",
    "gmb1 = 2.52e-03\n",
    "av1 = (gm1+gmb1+gds1)/(gds1 + 1/(r1)) #Redefine in order to assume values\n",
    "\n",
    "s = solve( av1-AvLinGoal,[r1] )\n",
    "s\n",
    "r1 = s[0]\n",
    "print(\"R1 Value: \",r1)"
   ]
  },
  {
   "cell_type": "markdown",
   "id": "263f9c14",
   "metadata": {},
   "source": [
    "# Common Source"
   ]
  },
  {
   "cell_type": "markdown",
   "id": "59775bb5",
   "metadata": {},
   "source": [
    "Para $V_{DSsat} = 100~\\text{mV}$\n",
    "\n",
    "$$V_{DSsat} =V_{GS}-V_{Th}\\Leftrightarrow V_{GS} = 0.7$$"
   ]
  },
  {
   "cell_type": "markdown",
   "id": "83271731",
   "metadata": {},
   "source": [
    "$$A_v = −gm(rds//R_2)$$\n",
    "\n",
    "$$gm = K_{n,p}\\frac{W}{L}V_{DSsat}$$"
   ]
  },
  {
   "cell_type": "code",
   "execution_count": 33,
   "id": "f654c273",
   "metadata": {},
   "outputs": [
    {
     "ename": "NameError",
     "evalue": "name 'eq_gm2' is not defined",
     "output_type": "error",
     "traceback": [
      "\u001b[31m---------------------------------------------------------------------------\u001b[39m",
      "\u001b[31mNameError\u001b[39m                                 Traceback (most recent call last)",
      "\u001b[36mCell\u001b[39m\u001b[36m \u001b[39m\u001b[32mIn[33]\u001b[39m\u001b[32m, line 5\u001b[39m\n\u001b[32m      2\u001b[39m vdsat2 = \u001b[32m100e-3\u001b[39m\n\u001b[32m      4\u001b[39m rds2 = \u001b[32m1\u001b[39m/(\u001b[32m9.60e-05\u001b[39m) \n\u001b[32m----> \u001b[39m\u001b[32m5\u001b[39m s = solve( [\u001b[43meq_gm2\u001b[49m,eq_id2, av2-AvLinGoal],[id2,wl2,gm2,r2] )\n\u001b[32m      7\u001b[39m \u001b[38;5;28mprint\u001b[39m(\u001b[33m\"\u001b[39m\u001b[33mId2 = \u001b[39m\u001b[33m\"\u001b[39m,s[id2]*\u001b[32m1e3\u001b[39m,\u001b[33m\"\u001b[39m\u001b[33mmA\u001b[39m\u001b[33m\"\u001b[39m)\n\u001b[32m      8\u001b[39m \u001b[38;5;28mprint\u001b[39m(\u001b[33m\"\u001b[39m\u001b[33mW   = \u001b[39m\u001b[33m\"\u001b[39m,s[wl2]*Lmin*\u001b[32m1e6\u001b[39m,\u001b[33m\"\u001b[39m\u001b[33mum\u001b[39m\u001b[33m\"\u001b[39m)\n",
      "\u001b[31mNameError\u001b[39m: name 'eq_gm2' is not defined"
     ]
    }
   ],
   "source": [
    "wl2,id2 = symbols(\"\\\\frac{W_2}{L_2} I_{d2}\")\n",
    "vdsat2 = 100e-3\n",
    "\n",
    "rds2 = 1/(9.60e-05) \n",
    "s = solve( [eq_gm2,eq_id2, av2-AvLinGoal],[id2,wl2,gm2,r2] )\n",
    "\n",
    "print(\"Id2 = \",s[id2]*1e3,\"mA\")\n",
    "print(\"W   = \",s[wl2]*Lmin*1e6,\"um\")\n",
    "print(\"Gm2 = \",s[gm2])"
   ]
  },
  {
   "cell_type": "markdown",
   "id": "aeece686",
   "metadata": {},
   "source": [
    "# Output Buffer"
   ]
  },
  {
   "cell_type": "code",
   "execution_count": null,
   "id": "9a87ed02",
   "metadata": {},
   "outputs": [
    {
     "name": "stdout",
     "output_type": "stream",
     "text": [
      "V_{ip}⋅g_{m2} + V_{out}⋅g_{ds1} + V_{out}⋅g_{ds2} + V_{out}⋅g_{mb1} + g_{m1}⋅( ↪\n",
      "\n",
      "↪ -V_{in} + V_{out})\n",
      "V_{ip} g_{m2} + V_{out} \\left(g_{ds1} + g_{ds2} + g_{mb1}\\right) + g_{m1} \\lef ↪\n",
      "\n",
      "↪ t(- V_{in} + V_{out}\\right)\n"
     ]
    }
   ],
   "source": [
    "Vin, Vip, Vgs1,gm1,gds1,Vsb1,gmb1,Vgs2,gm2,gds2,Vout, Vsb2 = symbols(\"V_{in} V_{ip} V_{gs1} g_{m1} g_{ds1} V_{sb1} g_{mb1} V_{gs2} g_{m2} g_{ds2} V_{out} V_{sb2} \")\n",
    "init_printing()\n",
    "Vgs1 = Vin-Vout\n",
    "Vsb1 = Vout\n",
    "Vgs2 = Vip\n",
    "Vsb2 = 0\n",
    "\n",
    "eq = -Vgs1*gm1 + Vout*gds1 + Vsb1*gmb1 +Vgs2*gm2+Vout*gds2-Vsb2*gmb2\n",
    "pprint(eq)\n",
    "eq = collect(eq,[Vin,Vip,Vout])\n",
    "pprint(latex(eq))\n"
   ]
  },
  {
   "cell_type": "markdown",
   "id": "14fb518f",
   "metadata": {},
   "source": [
    "$$V_{out}(g_{ds1}+g_{ds2}+g_{mb1}+g_{m1}) = V_{ip}\\cdot g_{m2}-V_{in}\\cdot g_{m1}$$"
   ]
  },
  {
   "cell_type": "code",
   "execution_count": null,
   "id": "c59f27c7",
   "metadata": {},
   "outputs": [
    {
     "name": "stdout",
     "output_type": "stream",
     "text": [
      "{I_{d1}: 0.001, \\frac{W}{L}₁: 1000.0, g_{m1}: 0.02, g_{m2}: 0.02}\n",
      "Vbiasp =  1.95\n",
      "Vbiasn =  0.7\n"
     ]
    }
   ],
   "source": [
    "Id1, Id2, gm1,gm2,wl1 = symbols(\"I_{d1} I_{d2} g_{m1} g_{m2} \\\\frac{W}{L}_1\")\n",
    "Zout = 1/(gm1)\n",
    "\n",
    "vdsat = 0.1\n",
    "\n",
    "vgs = Vtn + vdsat\n",
    "\n",
    "vbiasp = Vdd/2 + vgs\n",
    "vbiasn = vgs\n",
    "\n",
    "id_eq  = Eq( Id1,0.5*Kn*wl1*np.power(vdsat,2) )\n",
    "\n",
    "eq_gm1 = Eq(gm1, 2*Id1/vdsat)\n",
    "eq_gm2 = Eq(gm2, gm1)\n",
    "eq_zo  = Eq(50,1/gm1)\n",
    "\n",
    "s = solve([eq_gm1, eq_gm2, eq_zo,id_eq])\n",
    "pprint(s)\n",
    "\n",
    "print(\"Vbiasp = \",vbiasp )\n",
    "print(\"Vbiasn = \",vbiasn )\n"
   ]
  }
 ],
 "metadata": {
  "kernelspec": {
   "display_name": "Python 3",
   "language": "python",
   "name": "python3"
  },
  "language_info": {
   "codemirror_mode": {
    "name": "ipython",
    "version": 3
   },
   "file_extension": ".py",
   "mimetype": "text/x-python",
   "name": "python",
   "nbconvert_exporter": "python",
   "pygments_lexer": "ipython3",
   "version": "3.13.1"
  }
 },
 "nbformat": 4,
 "nbformat_minor": 5
}
